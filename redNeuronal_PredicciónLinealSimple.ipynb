{
  "nbformat": 4,
  "nbformat_minor": 0,
  "metadata": {
    "colab": {
      "name": "redNeuronal_PredicciónLinealSimple",
      "provenance": [],
      "collapsed_sections": [],
      "authorship_tag": "ABX9TyMsnF295+82CY3o1EE41245",
      "include_colab_link": true
    },
    "kernelspec": {
      "name": "python3",
      "display_name": "Python 3"
    },
    "language_info": {
      "name": "python"
    },
    "accelerator": "GPU"
  },
  "cells": [
    {
      "cell_type": "markdown",
      "metadata": {
        "id": "view-in-github",
        "colab_type": "text"
      },
      "source": [
        "<a href=\"https://colab.research.google.com/github/EdwinTitan/Red-Neuronal-Prediccion-Lineal-eur-mxn-/blob/main/redNeuronal_Predicci%C3%B3nLinealSimple.ipynb\" target=\"_parent\"><img src=\"https://colab.research.google.com/assets/colab-badge.svg\" alt=\"Open In Colab\"/></a>"
      ]
    },
    {
      "cell_type": "code",
      "metadata": {
        "id": "RKxv2Ag3iHxt"
      },
      "source": [
        "import tensorflow as tf\n",
        "import numpy as np\n",
        "import matplotlib.pyplot as plt\n"
      ],
      "execution_count": 7,
      "outputs": []
    },
    {
      "cell_type": "code",
      "metadata": {
        "id": "MBPPWdF-iOLB"
      },
      "source": [
        "peso = np.array([15,45,2,50,25,30], dtype=float)\n",
        "euro = np.array([.64,1.91,.085,2.12,1.06,1.27], dtype=float)"
      ],
      "execution_count": 2,
      "outputs": []
    },
    {
      "cell_type": "code",
      "metadata": {
        "id": "M2P-TfYbiiCv"
      },
      "source": [
        "# capa = tf.keras.layers.Dense(units=1, input_shape=[1])\n",
        "# modelo = tf.keras.Sequential([capa])\n",
        "oculta1 = tf.keras.layers.Dense(units=3, input_shape=[1])\n",
        "oculta2= tf.keras.layers.Dense(units=3)\n",
        "salida = tf.keras.layers.Dense(units=1)\n",
        "modelo=tf.keras.Sequential([oculta1,oculta2,salida])"
      ],
      "execution_count": 3,
      "outputs": []
    },
    {
      "cell_type": "code",
      "metadata": {
        "id": "ujpWVNHoiu8F"
      },
      "source": [
        "modelo.compile(\n",
        "    optimizer=tf.keras.optimizers.Adam(0.1),\n",
        "    loss='mean_squared_error'\n",
        ")"
      ],
      "execution_count": 4,
      "outputs": []
    },
    {
      "cell_type": "code",
      "metadata": {
        "id": "g0ugS2VojBbg"
      },
      "source": [
        "print(\"Entrenamiento del modelo:\")\n",
        "historial = modelo.fit(peso,euro,epochs=250, verbose=False)"
      ],
      "execution_count": null,
      "outputs": []
    },
    {
      "cell_type": "code",
      "metadata": {
        "colab": {
          "base_uri": "https://localhost:8080/",
          "height": 296
        },
        "id": "eztd1K2FjV2Y",
        "outputId": "48f3406b-71d5-4f3e-d6c2-6976e4a60675"
      },
      "source": [
        "plt.xlabel(\"# Epoca\")\n",
        "plt.ylabel(\"Magnitud de Pérdida\")\n",
        "plt.plot(historial.history[\"loss\"])"
      ],
      "execution_count": 8,
      "outputs": [
        {
          "output_type": "execute_result",
          "data": {
            "text/plain": [
              "[<matplotlib.lines.Line2D at 0x7ffa60207790>]"
            ]
          },
          "metadata": {},
          "execution_count": 8
        },
        {
          "output_type": "display_data",
          "data": {
            "image/png": "[encoded data removed]",
            "text/plain": [
              "<Figure size 432x288 with 1 Axes>"
            ]
          },
          "metadata": {
            "needs_background": "light"
          }
        }
      ]
    },
    {
      "cell_type": "code",
      "metadata": {
        "colab": {
          "base_uri": "https://localhost:8080/"
        },
        "id": "sXLBZk_9jubD",
        "outputId": "d6717ed8-fcdd-43e7-a52d-9fb44a55d987"
      },
      "source": [
        "#predicción\n",
        "\n",
        "resultado = modelo.predict([150])\n",
        "print(\"El resultado son: \"+str(resultado) + \"Euros\",\n",
        "      \"\\nValor real actual: 6.38\",\n",
        "      \"\\nPerdida real:\",6.38-resultado,\n",
        "      \"\\nAccuracy aproximada:\", 1 - np.absolute(6.38-resultado))"
      ],
      "execution_count": 39,
      "outputs": [
        {
          "output_type": "stream",
          "name": "stdout",
          "text": [
            "El resultado son: [[6.618914]]Euros \n",
            "Valor real actual: 6.38 \n",
            "Perdida real: [[-0.23891401]] \n",
            "Accuracy aproximada: [[0.761086]]\n"
          ]
        }
      ]
    },
    {
      "cell_type": "code",
      "metadata": {
        "colab": {
          "base_uri": "https://localhost:8080/"
        },
        "id": "NlQeiF6hkkgg",
        "outputId": "143edcbb-1f89-4382-e20a-380aca20c446"
      },
      "source": [
        "print(\"Primer capa oculta: \\n\\n\",oculta1.get_weights(),\n",
        "      \"\\n\\nSegunda capa oculta: \\n\\n\",oculta2.get_weights(),\n",
        "      \"\\n\\nCapa de salida: \\n\",salida.get_weights())"
      ],
      "execution_count": 31,
      "outputs": [
        {
          "output_type": "stream",
          "name": "stdout",
          "text": [
            "Primer capa oculta: \n",
            "\n",
            " [array([[-0.15661111, -0.19611792,  0.4787775 ]], dtype=float32), array([-0.6282991 ,  1.0227768 ,  0.56035084], dtype=float32)] \n",
            "\n",
            "Segunda capa oculta: \n",
            "\n",
            " [array([[-0.10390799,  0.11374331, -0.1631459 ],\n",
            "       [-0.12993827,  0.22565079, -0.66091216],\n",
            "       [-0.40207973,  0.76673067, -0.6358349 ]], dtype=float32), array([ 0.8306424 , -0.46979558,  0.49432665], dtype=float32)] \n",
            "\n",
            "Capa de salida: \n",
            " [array([[0.21135862],\n",
            "       [0.28232154],\n",
            "       [0.0641338 ]], dtype=float32), array([-0.20254414], dtype=float32)]\n"
          ]
        }
      ]
    }
  ]
}